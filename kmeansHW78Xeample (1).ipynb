{
 "cells": [
  {
   "cell_type": "code",
   "execution_count": 12,
   "metadata": {
    "colab": {
     "base_uri": "https://localhost:8080/"
    },
    "id": "-BuEtXV0I5rx",
    "outputId": "bb2e9b3d-5626-4d30-8fa7-0adac90888ca"
   },
   "outputs": [
    {
     "name": "stdout",
     "output_type": "stream",
     "text": [
      "10\n",
      "initial choice -0.052 0.054 3.99 2.708\n",
      "step 0 1 x 0.036 1 y 0.024 2 x 3.926 2 y 3.039\n",
      "step 1 1 x 0.036 1 y 0.024 2 x 3.926 2 y 3.039\n",
      "step 2 1 x 0.036 1 y 0.024 2 x 3.926 2 y 3.039\n",
      "step 3 1 x 0.036 1 y 0.024 2 x 3.926 2 y 3.039\n",
      "step 4 1 x 0.036 1 y 0.024 2 x 3.926 2 y 3.039\n",
      "step 5 1 x 0.036 1 y 0.024 2 x 3.926 2 y 3.039\n",
      "step 6 1 x 0.036 1 y 0.024 2 x 3.926 2 y 3.039\n",
      "step 7 1 x 0.036 1 y 0.024 2 x 3.926 2 y 3.039\n",
      "step 8 1 x 0.036 1 y 0.024 2 x 3.926 2 y 3.039\n",
      "step 9 1 x 0.036 1 y 0.024 2 x 3.926 2 y 3.039\n",
      "sample # 0 hard label 1 0.404 0.303\n",
      "sample # 1 hard label 1 -0.478 0.155\n",
      "sample # 2 hard label 1 -0.461 -0.196\n",
      "sample # 3 hard label 1 -0.052 0.054\n",
      "sample # 4 hard label 1 0.766 -0.196\n",
      "sample # 5 hard label 2 4.156 3.236\n",
      "sample # 6 hard label 2 3.561 3.56\n",
      "sample # 7 hard label 2 3.853 2.566\n",
      "sample # 8 hard label 2 4.067 3.126\n",
      "sample # 9 hard label 2 3.99 2.708\n"
     ]
    }
   ],
   "source": [
    "# This example is John Gutag's book\n",
    "# the code is used to create clusters\n",
    "# first we generate two cluster with mean and sigma\n",
    "# second we apply k means cluster\n",
    "# for simplicity we only use two clusters but the idea can be generalized\n",
    "# the original code is written in class and object-oriented\n",
    "# here we use more procedure type programming\n",
    "\n",
    "import random\n",
    "\n",
    "x1_record=[]\n",
    "x2_record=[]\n",
    "\n",
    "x1=0.0\n",
    "x2=0.0\n",
    "y1=0.0\n",
    "y2=0.0\n",
    "number_sample=5\n",
    "#generate two clusters decorated with gaussian noise\n",
    "for i in range(number_sample):\n",
    "    x1=random.gauss(0,0.6) #create random number gauss (mean, sigma)\n",
    "    x2=random.gauss(0,0.6)\n",
    "    x1_record.append(float(x1))\n",
    "    x2_record.append(float(x2))\n",
    "for i in range(number_sample):\n",
    "    y1=4.0+random.gauss(0,0.6)\n",
    "    y2=3.0+random.gauss(0,0.6)\n",
    "    x1_record.append(float(y1))\n",
    "    x2_record.append(float(y2))\n",
    "\n",
    "number = len(x1_record)\n",
    "print(number)\n",
    "#choose two cluster center or reference vector from one of the sample\n",
    "cluster1= random.choice(range(0,number))\n",
    "cluster2= random.choice(range(0,number))\n",
    "\n",
    "centroid1x= x1_record[cluster1]\n",
    "centroid1y= x2_record[cluster1]\n",
    "centroid2x= x1_record[cluster2]\n",
    "centroid2y= x2_record[cluster2]\n",
    "print('initial choice',round(centroid1x,3), round(centroid1y,3), round(centroid2x,3), round(centroid2y,3))\n",
    "\n",
    "index=[]\n",
    "for j in range(number):\n",
    "    index.append('0') # create a zero index tthis index record which cluster\n",
    "                        #the data point is associated with\n",
    "\n",
    "#run over all the sample and compute and compare the distance\n",
    "for j in range(number):\n",
    "    distance_to_cluster1= (centroid1x-x1_record[j])**2+(centroid1y-x2_record[j])**2\n",
    "    distance_to_cluster2= (centroid2x-x1_record[j])**2+(centroid2y-x2_record[j])**2\n",
    "    if distance_to_cluster1>distance_to_cluster2:\n",
    "        index[j]=2\n",
    "    else:\n",
    "        index[j]=1\n",
    "\n",
    "centroid_1_x=0.0  # index rule index for cluster\n",
    "centroid_1_y=0.0\n",
    "centroid_2_x=0.0\n",
    "centroid_2_y=0.0\n",
    "for iteration in range(10):\n",
    "    sum_1_x=0.0\n",
    "    sum_1_y=0.0\n",
    "    sum_2_x=0.0\n",
    "    sum_2_y=0.0\n",
    "    count_1=0\n",
    "    count_2=0\n",
    "    for j in range(number):\n",
    "        if index[j]==1:\n",
    "            sum_1_x=sum_1_x+x1_record[j]\n",
    "            sum_1_y=sum_1_y+x2_record[j]\n",
    "            count_1=count_1+1\n",
    "        elif index[j]==2:\n",
    "            sum_2_x=sum_2_x+x1_record[j]\n",
    "            sum_2_y=sum_2_y+x2_record[j]\n",
    "            count_2=count_2+1\n",
    "        else:\n",
    "            print('error index') #for trouble shooting\n",
    "    centroid_1_x=sum_1_x/count_1\n",
    "    centroid_1_y=sum_1_y/count_1\n",
    "    centroid_2_x=sum_2_x/count_2\n",
    "    centroid_2_y=sum_2_y/count_2\n",
    "    print('step', iteration, '1 x',round(centroid_1_x,3), '1 y',round(centroid_1_y,3),'2 x',round(centroid_2_x,3),'2 y',round(centroid_2_y,3))\n",
    "\n",
    "    for j in range(number):\n",
    "        distance_to_cluster1= (centroid_1_x-x1_record[j])**2+(centroid_1_y-x2_record[j])**2\n",
    "        distance_to_cluster2= (centroid_2_x-x1_record[j])**2+(centroid_2_y-x2_record[j])**2\n",
    "        if distance_to_cluster1>distance_to_cluster2:\n",
    "            index[j]=2\n",
    "        else:\n",
    "            index[j]=1\n",
    "\n",
    "for j in range(number):\n",
    "    print( 'sample #', j, 'hard label', index[j], round(x1_record[j],3),round(x2_record[j],3))"
   ]
  },
  {
   "cell_type": "code",
   "execution_count": 13,
   "metadata": {
    "colab": {
     "base_uri": "https://localhost:8080/",
     "height": 465
    },
    "id": "DP9LXvYeMLE0",
    "outputId": "1cb9d57a-e981-4230-eb5d-83267c4c24ae"
   },
   "outputs": [
    {
     "data": {
      "image/png": "[encoded data removed]",
      "text/plain": [
       "<Figure size 432x288 with 1 Axes>"
      ]
     },
     "metadata": {
      "needs_background": "light"
     },
     "output_type": "display_data"
    }
   ],
   "source": [
    "import matplotlib as mpl\n",
    "import matplotlib.pyplot as plt\n",
    "plt.scatter(x1_record, x2_record, s=10)\n",
    "plt.scatter(centroid_1_x, centroid_1_y, s=10)\n",
    "plt.scatter(centroid_2_x, centroid_2_y, s=10)\n",
    "\n",
    "plt.xlabel(\"$x1$\", fontsize=18)\n",
    "plt.ylabel(\"$x2$\", rotation=90, fontsize=18)\n",
    "plt.axis([-2, 5, -2, 5])\n",
    "plt.show()"
   ]
  },
  {
   "cell_type": "code",
   "execution_count": null,
   "metadata": {},
   "outputs": [],
   "source": []
  },
  {
   "cell_type": "code",
   "execution_count": null,
   "metadata": {},
   "outputs": [],
   "source": []
  }
 ],
 "metadata": {
  "colab": {
   "provenance": []
  },
  "kernelspec": {
   "display_name": "Python 3",
   "language": "python",
   "name": "python3"
  },
  "language_info": {
   "codemirror_mode": {
    "name": "ipython",
    "version": 3
   },
   "file_extension": ".py",
   "mimetype": "text/x-python",
   "name": "python",
   "nbconvert_exporter": "python",
   "pygments_lexer": "ipython3",
   "version": "3.8.5"
  }
 },
 "nbformat": 4,
 "nbformat_minor": 1
}
